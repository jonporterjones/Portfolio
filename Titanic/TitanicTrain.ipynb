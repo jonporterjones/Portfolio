{
 "cells": [
  {
   "cell_type": "markdown",
   "metadata": {},
   "source": [
    "# Purpose\n",
    "\n",
    "This notebook will use the kaggle dataset \"Titanic - Machine Learning from Disaster\".  \n",
    "to demonstrate logistic regression and a pipeline to do a lot of dataset manipulation.  \n",
    "\n",
    "The goal isn't necessarily to win the Titanic competion - which isn't possible anyway because there are perfect classifiers out there, but to demonstrate some techniques and beat a naive baseline."
   ]
  },
  {
   "cell_type": "code",
   "execution_count": 26,
   "metadata": {},
   "outputs": [],
   "source": [
    "from typing import Tuple\n",
    "\n",
    "import pandas as pd\n",
    "from sklearn.compose import ColumnTransformer\n",
    "from sklearn.impute import SimpleImputer\n",
    "from sklearn.linear_model import LogisticRegression\n",
    "from sklearn.model_selection import train_test_split\n",
    "from sklearn.pipeline import Pipeline\n",
    "from sklearn.preprocessing import KBinsDiscretizer, OneHotEncoder"
   ]
  },
  {
   "cell_type": "markdown",
   "metadata": {},
   "source": [
    "Gather the data and a little preprocessing.  \n",
    "*  create my own train/test split\n",
    "*  drop some columns that don't make good 'out of the box' features"
   ]
  },
  {
   "cell_type": "code",
   "execution_count": 2,
   "metadata": {},
   "outputs": [],
   "source": [
    "train_competition = pd.read_csv('./data/train.csv')\n",
    "test_competition = pd.read_csv('./data/test.csv')"
   ]
  },
  {
   "cell_type": "code",
   "execution_count": 3,
   "metadata": {},
   "outputs": [
    {
     "name": "stdout",
     "output_type": "stream",
     "text": [
      "Train: (891, 12)\n",
      "Test: (418, 11)\n"
     ]
    }
   ],
   "source": [
    "print(f'Train: {train_competition.shape}')\n",
    "print(f\"Test: {test_competition.shape}\")"
   ]
  },
  {
   "cell_type": "code",
   "execution_count": 4,
   "metadata": {},
   "outputs": [
    {
     "data": {
      "text/plain": [
       "PassengerId      int64\n",
       "Survived         int64\n",
       "Pclass           int64\n",
       "Name            object\n",
       "Sex             object\n",
       "Age            float64\n",
       "SibSp            int64\n",
       "Parch            int64\n",
       "Ticket          object\n",
       "Fare           float64\n",
       "Cabin           object\n",
       "Embarked        object\n",
       "dtype: object"
      ]
     },
     "execution_count": 4,
     "metadata": {},
     "output_type": "execute_result"
    }
   ],
   "source": [
    "train_competition.dtypes"
   ]
  },
  {
   "cell_type": "code",
   "execution_count": 5,
   "metadata": {},
   "outputs": [],
   "source": [
    "# Drop a few columns that wouldn't make good 'out of the box' features\n",
    "train_x = train_competition.drop([\"PassengerId\", \"Survived\", \"Name\", \"Ticket\", \"Cabin\"], axis=1)\n",
    "train_y = train_competition.loc[:,[\"Survived\"]]"
   ]
  },
  {
   "cell_type": "code",
   "execution_count": 6,
   "metadata": {},
   "outputs": [],
   "source": [
    "train_x, test_x, train_y, test_y = train_test_split(train_x, train_y, test_size=0.1, stratify=train_y)"
   ]
  },
  {
   "cell_type": "code",
   "execution_count": 7,
   "metadata": {},
   "outputs": [
    {
     "name": "stdout",
     "output_type": "stream",
     "text": [
      "(801, 7)\n",
      "(801, 1)\n",
      "(90, 7)\n",
      "(90, 1)\n"
     ]
    }
   ],
   "source": [
    "print(train_x.shape)\n",
    "print(train_y.shape)\n",
    "print(test_x.shape)\n",
    "print(test_y.shape)"
   ]
  },
  {
   "cell_type": "code",
   "execution_count": 24,
   "metadata": {},
   "outputs": [
    {
     "data": {
      "text/plain": [
       "Pclass        int64\n",
       "Sex          object\n",
       "Age         float64\n",
       "SibSp         int64\n",
       "Parch         int64\n",
       "Fare        float64\n",
       "Embarked     object\n",
       "dtype: object"
      ]
     },
     "execution_count": 24,
     "metadata": {},
     "output_type": "execute_result"
    }
   ],
   "source": [
    "train_x.dtypes"
   ]
  },
  {
   "cell_type": "markdown",
   "metadata": {},
   "source": [
    "# Baseline\n",
    "\n",
    "One of the most important tasks with ML and supervised learning is to establish a baseline.\n",
    "\n",
    "A naive baseline doesn't use any input features, for a binary classification problem such as this it is akin to predicting the majority class in all cases.\n",
    "\n",
    "Without a naive baseline you cannot be certain a ML model is able to learn from input features."
   ]
  },
  {
   "cell_type": "code",
   "execution_count": 18,
   "metadata": {},
   "outputs": [],
   "source": [
    "# The majority class is dead\n",
    "baseline = (train_y.shape[0] - train_y.sum())/train_y.shape[0]"
   ]
  },
  {
   "cell_type": "code",
   "execution_count": 23,
   "metadata": {},
   "outputs": [
    {
     "name": "stdout",
     "output_type": "stream",
     "text": [
      "Baseline: 0.62\n"
     ]
    }
   ],
   "source": [
    "print(f'Baseline: {round(baseline.iloc[0], 2)}')"
   ]
  },
  {
   "cell_type": "markdown",
   "metadata": {},
   "source": [
    "# Pipeline\n",
    "\n",
    "Take the approach as treating all training data categorical.\n",
    "\n",
    "Pclass, Sex, SibSp, Parch, Embarked will be one-hot encoded  \n",
    "Age and Fare will be bucketed and one-hot encoded"
   ]
  },
  {
   "cell_type": "code",
   "execution_count": 25,
   "metadata": {},
   "outputs": [],
   "source": [
    "# convert non-categorical columns to categorical prior to encoding\n",
    "train_x[\"Pclass\"] = train_x[\"Pclass\"].astype('category')\n",
    "train_x[\"Sex\"] = train_x[\"Sex\"].astype('category')\n",
    "train_x[\"SibSp\"] = train_x[\"SibSp\"].astype('category')\n",
    "train_x[\"Parch\"] = train_x[\"Parch\"].astype('category')\n",
    "train_x[\"Embarked\"] = train_x[\"Embarked\"].astype('category')"
   ]
  },
  {
   "cell_type": "code",
   "execution_count": null,
   "metadata": {},
   "outputs": [],
   "source": [
    "model_pipeline = Pipeline([\n",
    "    ('impute_nan', pass),\n",
    "    ('categorical_encoder',\n",
    "     OneHotEncoder(drop=\"if_binary\", \n",
    "                   handle_unknown=\"infrequent_if_exist\", \n",
    "                   sparse_output=False)),\n",
    "    ('numeric_binner', \n",
    "     KBinsDiscretizer(encode='onehot-dense'))\n",
    "\n",
    "])"
   ]
  }
 ],
 "metadata": {
  "kernelspec": {
   "display_name": "Python 3",
   "language": "python",
   "name": "python3"
  },
  "language_info": {
   "codemirror_mode": {
    "name": "ipython",
    "version": 3
   },
   "file_extension": ".py",
   "mimetype": "text/x-python",
   "name": "python",
   "nbconvert_exporter": "python",
   "pygments_lexer": "ipython3",
   "version": "3.12.1"
  }
 },
 "nbformat": 4,
 "nbformat_minor": 2
}
